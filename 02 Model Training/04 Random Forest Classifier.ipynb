{
 "cells": [
  {
   "cell_type": "code",
   "execution_count": 19,
   "metadata": {},
   "outputs": [],
   "source": [
    "import glob\n",
    "import os\n",
    "import numpy as np\n",
    "import pandas as pd\n",
    "import seaborn as sns\n",
    "from nltk.corpus import stopwords\n",
    "from nltk.stem import WordNetLemmatizer\n",
    "from sklearn.model_selection import train_test_split\n",
    "from sklearn.feature_extraction.text import TfidfVectorizer\n",
    "from sklearn.feature_selection import chi2\n",
    "import pickle\n",
    "\n",
    "from sklearn.ensemble import RandomForestClassifier\n",
    "from sklearn.metrics import accuracy_score\n",
    "from sklearn.model_selection import RandomizedSearchCV\n",
    "from sklearn.metrics import classification_report\n",
    "from sklearn.metrics import confusion_matrix\n",
    "import matplotlib.pyplot as plt\n",
    "from sklearn import svm\n",
    "from sklearn.model_selection import GridSearchCV\n",
    "from sklearn.model_selection import ShuffleSplit\n",
    "from sklearn.metrics import confusion_matrix\n",
    "from sklearn.naive_bayes import MultinomialNB\n",
    "import random\n",
    "from nltk.stem import WordNetLemmatizer\n",
    "from nltk.corpus import wordnet\n",
    "import re\n",
    "from sklearn.linear_model import LogisticRegression\n",
    "from sklearn.neighbors import KNeighborsClassifier\n",
    "from sklearn.ensemble import GradientBoostingClassifier\n",
    "from pprint import pprint"
   ]
  },
  {
   "cell_type": "code",
   "execution_count": 11,
   "metadata": {},
   "outputs": [],
   "source": [
    "import numpy as np\n",
    "import pandas as pd\n",
    "import pickle\n",
    "from sklearn.ensemble import RandomForestClassifier\n",
    "from sklearn.metrics import accuracy_score\n"
   ]
  },
  {
   "cell_type": "code",
   "execution_count": 27,
   "metadata": {},
   "outputs": [],
   "source": [
    "folder_path = \"D:/Projects/News Article classifier/01 Dataset Creation/Pickles//\"\n",
    "\n",
    "filename = \"features_test.pickle\"\n",
    "with open(folder_path + filename, \"rb\") as file:\n",
    "    features_test = pickle.load(file)\n",
    "    \n",
    "filename = \"features_train.pickle\"\n",
    "with open(folder_path + filename, \"rb\") as file:\n",
    "    features_train = pickle.load(file)\n",
    "    \n",
    "filename = \"labels_test.pickle\"\n",
    "with open(folder_path + filename, \"rb\") as file:\n",
    "    labels_test = pickle.load(file)\n",
    "\n",
    "filename = \"labels_train.pickle\"\n",
    "with open(folder_path + filename, \"rb\") as file:\n",
    "    labels_train = pickle.load(file)\n",
    "    \n",
    "filename = \"tfidf.pickle\"\n",
    "with open(folder_path + filename, \"rb\") as file:\n",
    "    tfidf = pickle.load(file)\n",
    "    \n",
    "filename = \"X_test.pickle\"\n",
    "with open(folder_path + filename, \"rb\") as file:\n",
    "    X_test = pickle.load(file)\n",
    "    \n",
    "filename = \"X_train.pickle\"\n",
    "with open(folder_path + filename, \"rb\") as file:\n",
    "    X_train = pickle.load(file)\n",
    "    \n",
    "filename = \"y_test.pickle\"\n",
    "with open(folder_path + filename, \"rb\") as file:\n",
    "    y_test = pickle.load(file)\n",
    "    \n",
    "filename = \"y_train.pickle\"\n",
    "with open(folder_path + filename, \"rb\") as file:\n",
    "    y_train = pickle.load(file)\n",
    "\n",
    "    filename = \"data.pickle\"\n",
    "with open(folder_path + filename, \"rb\") as file:\n",
    "    data = pickle.load(file)\n"
   ]
  },
  {
   "cell_type": "markdown",
   "metadata": {},
   "source": [
    "# Random Forest Classifier\n",
    "\n",
    "### Default Model"
   ]
  },
  {
   "cell_type": "code",
   "execution_count": 12,
   "metadata": {},
   "outputs": [
    {
     "data": {
      "text/plain": [
       "0.9443447037701975"
      ]
     },
     "execution_count": 12,
     "metadata": {},
     "output_type": "execute_result"
    }
   ],
   "source": [
    "#Default Model\n",
    "rf_1 = RandomForestClassifier(random_state=23)\n",
    "rf_1.fit(features_train, labels_train)\n",
    "ypred = rf_1.predict(features_test)\n",
    "accuracy_score(ypred, labels_test)"
   ]
  },
  {
   "cell_type": "code",
   "execution_count": 14,
   "metadata": {
    "scrolled": true
   },
   "outputs": [
    {
     "name": "stdout",
     "output_type": "stream",
     "text": [
      "<bound method BaseEstimator.get_params of RandomForestClassifier(bootstrap=True, ccp_alpha=0.0, class_weight=None,\n",
      "                       criterion='gini', max_depth=None, max_features='auto',\n",
      "                       max_leaf_nodes=None, max_samples=None,\n",
      "                       min_impurity_decrease=0.0, min_impurity_split=None,\n",
      "                       min_samples_leaf=1, min_samples_split=2,\n",
      "                       min_weight_fraction_leaf=0.0, n_estimators=100,\n",
      "                       n_jobs=None, oob_score=False, random_state=23, verbose=0,\n",
      "                       warm_start=False)>\n"
     ]
    }
   ],
   "source": [
    "print(rf_1.get_params)"
   ]
  },
  {
   "cell_type": "code",
   "execution_count": 15,
   "metadata": {},
   "outputs": [
    {
     "name": "stdout",
     "output_type": "stream",
     "text": [
      "Training Accuracy: 1.0\n",
      "Test Accuracy: 0.9443447037701975\n"
     ]
    }
   ],
   "source": [
    "print(\"Training Accuracy: {}\".format(accuracy_score(rf_1.predict(features_train), labels_train)))\n",
    "print(\"Test Accuracy: {}\".format(accuracy_score(ypred, labels_test)))\n"
   ]
  },
  {
   "cell_type": "markdown",
   "metadata": {},
   "source": [
    "### Randomized Search CV"
   ]
  },
  {
   "cell_type": "markdown",
   "metadata": {},
   "source": [
    "#### First Run"
   ]
  },
  {
   "cell_type": "code",
   "execution_count": 14,
   "metadata": {},
   "outputs": [],
   "source": [
    "n_estimators = list(range(100, 1501, 100)) #15 options\n",
    "max_depth = [None] + list(range(5, 16, 5)) #4 options\n",
    "min_samples_split = [2] + list(range(5, 21, 5)) #5 options\n",
    "bootstrap = [True, False] #2 options\n",
    "min_samples_leaf = [1, 5, 10, 15] # 4 options \n",
    "param_grid = {\"n_estimators\" : n_estimators,\n",
    "            \"max_depth\" : max_depth,\n",
    "            \"min_samples_split\" : min_samples_split,\n",
    "            \"bootstrap\" : bootstrap,\n",
    "            \"min_samples_leaf\" : min_samples_leaf}"
   ]
  },
  {
   "cell_type": "code",
   "execution_count": 17,
   "metadata": {},
   "outputs": [
    {
     "name": "stdout",
     "output_type": "stream",
     "text": [
      "Fitting 3 folds for each of 240 candidates, totalling 720 fits\n"
     ]
    },
    {
     "name": "stderr",
     "output_type": "stream",
     "text": [
      "[Parallel(n_jobs=-1)]: Using backend LokyBackend with 12 concurrent workers.\n",
      "[Parallel(n_jobs=-1)]: Done  26 tasks      | elapsed:   32.0s\n",
      "[Parallel(n_jobs=-1)]: Done 176 tasks      | elapsed:  2.7min\n",
      "[Parallel(n_jobs=-1)]: Done 426 tasks      | elapsed:  6.5min\n",
      "[Parallel(n_jobs=-1)]: Done 720 out of 720 | elapsed: 11.4min finished\n"
     ]
    },
    {
     "data": {
      "text/plain": [
       "RandomizedSearchCV(cv=3, error_score=nan,\n",
       "                   estimator=RandomForestClassifier(bootstrap=True,\n",
       "                                                    ccp_alpha=0.0,\n",
       "                                                    class_weight=None,\n",
       "                                                    criterion='gini',\n",
       "                                                    max_depth=None,\n",
       "                                                    max_features='auto',\n",
       "                                                    max_leaf_nodes=None,\n",
       "                                                    max_samples=None,\n",
       "                                                    min_impurity_decrease=0.0,\n",
       "                                                    min_impurity_split=None,\n",
       "                                                    min_samples_leaf=1,\n",
       "                                                    min_samples_split=2,\n",
       "                                                    min_weight_fraction_leaf=0.0,\n",
       "                                                    n_estimators=100,\n",
       "                                                    n_jobs...\n",
       "                   iid='deprecated', n_iter=240, n_jobs=-1,\n",
       "                   param_distributions={'bootstrap': [True, False],\n",
       "                                        'max_depth': [None, 5, 10, 15],\n",
       "                                        'min_samples_leaf': [1, 5, 10, 15],\n",
       "                                        'min_samples_split': [2, 5, 10, 15, 20],\n",
       "                                        'n_estimators': [100, 200, 300, 400,\n",
       "                                                         500, 600, 700, 800,\n",
       "                                                         900, 1000, 1100, 1200,\n",
       "                                                         1300, 1400, 1500]},\n",
       "                   pre_dispatch='2*n_jobs', random_state=48, refit=True,\n",
       "                   return_train_score=False, scoring='accuracy', verbose=1)"
      ]
     },
     "execution_count": 17,
     "metadata": {},
     "output_type": "execute_result"
    }
   ],
   "source": [
    "random_rf = RandomForestClassifier(random_state=23)\n",
    "rf_cv1 = RandomizedSearchCV(estimator= random_rf, \n",
    "                           param_distributions= param_grid,\n",
    "                           n_iter = 240,\n",
    "                           scoring = \"accuracy\",\n",
    "                           cv = 3,\n",
    "                           verbose = 1,\n",
    "                           random_state = 48,\n",
    "                           n_jobs = -1)\n",
    "rf_cv1.fit(features_train, labels_train)"
   ]
  },
  {
   "cell_type": "code",
   "execution_count": 21,
   "metadata": {},
   "outputs": [
    {
     "name": "stdout",
     "output_type": "stream",
     "text": [
      "Best Score: 0.9580550999057128\n",
      "Bests Params: {'n_estimators': 1100, 'min_samples_split': 10, 'min_samples_leaf': 1, 'max_depth': None, 'bootstrap': False}\n",
      "\n"
     ]
    }
   ],
   "source": [
    "print(\n",
    "\"\"\"Best Score: {0}\n",
    "Bests Params: {1}\n",
    "\"\"\".format(rf_cv1.best_score_, rf_cv1.best_params_))"
   ]
  },
  {
   "cell_type": "code",
   "execution_count": 32,
   "metadata": {},
   "outputs": [
    {
     "name": "stdout",
     "output_type": "stream",
     "text": [
      "Training Accuracy: 1.0\n",
      "Test Accuracy: 0.9443447037701975\n"
     ]
    }
   ],
   "source": [
    "best_model = rf_cv1.best_estimator_\n",
    "best_model.fit(features_train, labels_train)\n",
    "print(\"Training Accuracy: {}\".format(accuracy_score(best_model.predict(features_train), labels_train)))\n",
    "print(\"Test Accuracy: {}\".format(accuracy_score(best_model.predict(features_test), labels_test)))"
   ]
  },
  {
   "cell_type": "markdown",
   "metadata": {},
   "source": [
    "**Observation**: After the 1st run, we observe that the model is overfit. We will try altering the tree specific features like max_features to reduce over-fitting."
   ]
  },
  {
   "cell_type": "markdown",
   "metadata": {},
   "source": [
    "#### Second Run"
   ]
  },
  {
   "cell_type": "code",
   "execution_count": 36,
   "metadata": {},
   "outputs": [
    {
     "name": "stdout",
     "output_type": "stream",
     "text": [
      "Fitting 5 folds for each of 200 candidates, totalling 1000 fits\n"
     ]
    },
    {
     "name": "stderr",
     "output_type": "stream",
     "text": [
      "[Parallel(n_jobs=-1)]: Using backend LokyBackend with 12 concurrent workers.\n",
      "[Parallel(n_jobs=-1)]: Done  26 tasks      | elapsed:   38.2s\n",
      "[Parallel(n_jobs=-1)]: Done 176 tasks      | elapsed:  3.8min\n",
      "[Parallel(n_jobs=-1)]: Done 426 tasks      | elapsed:  8.8min\n",
      "[Parallel(n_jobs=-1)]: Done 776 tasks      | elapsed: 16.3min\n",
      "[Parallel(n_jobs=-1)]: Done 1000 out of 1000 | elapsed: 20.8min finished\n"
     ]
    },
    {
     "data": {
      "text/plain": [
       "RandomizedSearchCV(cv=5, error_score=nan,\n",
       "                   estimator=RandomForestClassifier(bootstrap=True,\n",
       "                                                    ccp_alpha=0.0,\n",
       "                                                    class_weight=None,\n",
       "                                                    criterion='gini',\n",
       "                                                    max_depth=None,\n",
       "                                                    max_features='auto',\n",
       "                                                    max_leaf_nodes=None,\n",
       "                                                    max_samples=None,\n",
       "                                                    min_impurity_decrease=0.0,\n",
       "                                                    min_impurity_split=None,\n",
       "                                                    min_samples_leaf=1,\n",
       "                                                    min_samples_split=2,\n",
       "                                                    min_weight_fraction_leaf=0.0,\n",
       "                                                    n_estimators=100,\n",
       "                                                    n_jobs...\n",
       "                                                    warm_start=False),\n",
       "                   iid='deprecated', n_iter=200, n_jobs=-1,\n",
       "                   param_distributions={'bootstrap': [True, False],\n",
       "                                        'max_depth': [None, 5, 15],\n",
       "                                        'max_features': [10, 13, 16],\n",
       "                                        'min_samples_leaf': [1, 5, 10],\n",
       "                                        'min_samples_split': [7, 10, 13],\n",
       "                                        'n_estimators': [1000, 1050, 1100, 1150,\n",
       "                                                         1200]},\n",
       "                   pre_dispatch='2*n_jobs', random_state=48, refit=True,\n",
       "                   return_train_score=False, scoring='accuracy', verbose=1)"
      ]
     },
     "execution_count": 36,
     "metadata": {},
     "output_type": "execute_result"
    }
   ],
   "source": [
    "# Lesser number of n_estimators and including max_features and increasing cv to 5\n",
    "\n",
    "n_estimators = [1000, 1050, 1100, 1150, 1200] #5 options\n",
    "max_features = [10, 13, 16] #3 options\n",
    "max_depth = [None, 5, 15] #3 options\n",
    "min_samples_split = [7, 10, 13] #5 options\n",
    "bootstrap = [True, False] #2 options\n",
    "min_samples_leaf = [1, 5, 10] # 3 options \n",
    "param_grid = {\"n_estimators\" : n_estimators,\n",
    "              \"max_features\" : max_features,\n",
    "              \"max_depth\" : max_depth,\n",
    "              \"min_samples_split\" : min_samples_split,\n",
    "              \"bootstrap\" : bootstrap,\n",
    "              \"min_samples_leaf\" : min_samples_leaf}\n",
    "\n",
    "random_rf = RandomForestClassifier(random_state=23)\n",
    "rf_cv1 = RandomizedSearchCV(estimator= random_rf, \n",
    "                           param_distributions= param_grid,\n",
    "                           n_iter = 200,\n",
    "                           scoring = \"accuracy\",\n",
    "                           cv = 5,\n",
    "                           verbose = 1,\n",
    "                           random_state = 48,\n",
    "                           n_jobs = -1)\n",
    "rf_cv1.fit(features_train, labels_train)"
   ]
  },
  {
   "cell_type": "code",
   "execution_count": 37,
   "metadata": {
    "scrolled": true
   },
   "outputs": [
    {
     "name": "stdout",
     "output_type": "stream",
     "text": [
      "Best Score: 0.962859865853878\n",
      "Bests Params: {'n_estimators': 1200, 'min_samples_split': 7, 'min_samples_leaf': 1, 'max_features': 10, 'max_depth': None, 'bootstrap': False}\n",
      "\n"
     ]
    }
   ],
   "source": [
    "print(\n",
    "\"\"\"Best Score: {0}\n",
    "Bests Params: {1}\n",
    "\"\"\".format(rf_cv1.best_score_, rf_cv1.best_params_))"
   ]
  },
  {
   "cell_type": "code",
   "execution_count": 38,
   "metadata": {},
   "outputs": [
    {
     "name": "stdout",
     "output_type": "stream",
     "text": [
      "Training Accuracy: 1.0\n",
      "Test Accuracy: 0.9551166965888689\n"
     ]
    }
   ],
   "source": [
    "best_model = rf_cv1.best_estimator_\n",
    "best_model.fit(features_train, labels_train)\n",
    "print(\"Training Accuracy: {}\".format(accuracy_score(best_model.predict(features_train), labels_train)))\n",
    "print(\"Test Accuracy: {}\".format(accuracy_score(best_model.predict(features_test), labels_test)))"
   ]
  },
  {
   "cell_type": "markdown",
   "metadata": {},
   "source": [
    "Better Performance, but still overfit!\n",
    "\n",
    "We will continue optimizing and narrowing the parameter sets. For neatness of this notebook, I have not included the multiple runs I did for thorough analysis.\n",
    "\n",
    "After Randomized Search CV, when the parameter set is  very small, I perform Grid Search CV to do exhaustive search."
   ]
  },
  {
   "cell_type": "markdown",
   "metadata": {},
   "source": [
    "### Grid Search CV"
   ]
  },
  {
   "cell_type": "code",
   "execution_count": 33,
   "metadata": {},
   "outputs": [
    {
     "name": "stdout",
     "output_type": "stream",
     "text": [
      "Fitting 5 folds for each of 3 candidates, totalling 15 fits\n"
     ]
    },
    {
     "name": "stderr",
     "output_type": "stream",
     "text": [
      "[Parallel(n_jobs=-1)]: Using backend LokyBackend with 12 concurrent workers.\n",
      "[Parallel(n_jobs=-1)]: Done   8 out of  15 | elapsed:   14.9s remaining:   13.0s\n",
      "[Parallel(n_jobs=-1)]: Done  15 out of  15 | elapsed:   20.1s finished\n"
     ]
    },
    {
     "data": {
      "text/plain": [
       "GridSearchCV(cv=5, error_score=nan,\n",
       "             estimator=RandomForestClassifier(bootstrap=True, ccp_alpha=0.0,\n",
       "                                              class_weight=None,\n",
       "                                              criterion='gini', max_depth=None,\n",
       "                                              max_features='auto',\n",
       "                                              max_leaf_nodes=None,\n",
       "                                              max_samples=None,\n",
       "                                              min_impurity_decrease=0.0,\n",
       "                                              min_impurity_split=None,\n",
       "                                              min_samples_leaf=1,\n",
       "                                              min_samples_split=2,\n",
       "                                              min_weight_fraction_leaf=0.0,\n",
       "                                              n_estimators=100, n_jobs=None,\n",
       "                                              oob_score=False, random_state=23,\n",
       "                                              verbose=0, warm_start=False),\n",
       "             iid='deprecated', n_jobs=-1,\n",
       "             param_grid={'bootstrap': [False], 'max_depth': [None],\n",
       "                         'max_features': [7], 'min_samples_leaf': [1, 2, 3],\n",
       "                         'min_samples_split': [5], 'n_estimators': [1200]},\n",
       "             pre_dispatch='2*n_jobs', refit=True, return_train_score=False,\n",
       "             scoring='accuracy', verbose=1)"
      ]
     },
     "execution_count": 33,
     "metadata": {},
     "output_type": "execute_result"
    }
   ],
   "source": [
    "n_estimators = [1200] #3 options\n",
    "max_features = [7] #1 options\n",
    "max_depth = [None] #1 options\n",
    "min_samples_split = [5] #1 options\n",
    "bootstrap = [False] #1 options\n",
    "min_samples_leaf = [1, 2, 3] # 1 options \n",
    "param_grid = {\"n_estimators\" : n_estimators,\n",
    "              \"max_features\" : max_features,\n",
    "              \"max_depth\" : max_depth,\n",
    "              \"min_samples_split\" : min_samples_split,\n",
    "              \"bootstrap\" : bootstrap,\n",
    "              \"min_samples_leaf\" : min_samples_leaf}\n",
    "\n",
    "# Manually create the splits in CV in order to be able to fix a random_state (GridSearchCV doesn't have that argument)\n",
    "cv_sets = ShuffleSplit(n_splits = 5, test_size = .2, random_state = 48)\n",
    "\n",
    "grid_rf = RandomForestClassifier(random_state=23)\n",
    "\n",
    "rf_cv2 = GridSearchCV(estimator=grid_rf,\n",
    "                       param_grid = param_grid, \n",
    "                       scoring = \"accuracy\",\n",
    "                       n_jobs = -1,\n",
    "                       cv = 5,\n",
    "                       verbose = 1)\n",
    "rf_cv2.fit(features_train, labels_train)"
   ]
  },
  {
   "cell_type": "code",
   "execution_count": 34,
   "metadata": {},
   "outputs": [
    {
     "name": "stdout",
     "output_type": "stream",
     "text": [
      "Best Score: 0.9670514826203449\n",
      "Bests Params: {'bootstrap': False, 'max_depth': None, 'max_features': 7, 'min_samples_leaf': 1, 'min_samples_split': 5, 'n_estimators': 1200}\n",
      "\n",
      "Training Accuracy: 1.0\n",
      "Test Accuracy: 0.9605026929982047\n"
     ]
    }
   ],
   "source": [
    "print(\n",
    "\"\"\"Best Score: {0}\n",
    "Bests Params: {1}\n",
    "\"\"\".format(rf_cv2.best_score_, rf_cv2.best_params_))\n",
    "\n",
    "best_model = rf_cv2.best_estimator_\n",
    "best_model.fit(features_train, labels_train)\n",
    "ypred = best_model.predict(features_test)\n",
    "print(\"Training Accuracy: {}\".format(accuracy_score(best_model.predict(features_train), labels_train)))\n",
    "print(\"Test Accuracy: {}\".format(accuracy_score(best_model.predict(features_test), labels_test)))"
   ]
  },
  {
   "cell_type": "code",
   "execution_count": 24,
   "metadata": {},
   "outputs": [
    {
     "name": "stdout",
     "output_type": "stream",
     "text": [
      "{'bootstrap': False,\n",
      " 'ccp_alpha': 0.0,\n",
      " 'class_weight': None,\n",
      " 'criterion': 'gini',\n",
      " 'max_depth': None,\n",
      " 'max_features': 7,\n",
      " 'max_leaf_nodes': None,\n",
      " 'max_samples': None,\n",
      " 'min_impurity_decrease': 0.0,\n",
      " 'min_impurity_split': None,\n",
      " 'min_samples_leaf': 1,\n",
      " 'min_samples_split': 5,\n",
      " 'min_weight_fraction_leaf': 0.0,\n",
      " 'n_estimators': 1200,\n",
      " 'n_jobs': None,\n",
      " 'oob_score': False,\n",
      " 'random_state': 23,\n",
      " 'verbose': 0,\n",
      " 'warm_start': False}\n"
     ]
    }
   ],
   "source": [
    "pprint(best_model.get_params())"
   ]
  },
  {
   "cell_type": "markdown",
   "metadata": {},
   "source": [
    "#### Classification Report"
   ]
  },
  {
   "cell_type": "code",
   "execution_count": 25,
   "metadata": {},
   "outputs": [
    {
     "name": "stdout",
     "output_type": "stream",
     "text": [
      "              precision    recall  f1-score   support\n",
      "\n",
      "           0       0.95      0.98      0.97       116\n",
      "           1       0.94      0.95      0.95       107\n",
      "           2       0.96      0.94      0.95        99\n",
      "           3       0.96      0.99      0.98       138\n",
      "           4       0.99      0.92      0.95        97\n",
      "\n",
      "    accuracy                           0.96       557\n",
      "   macro avg       0.96      0.96      0.96       557\n",
      "weighted avg       0.96      0.96      0.96       557\n",
      "\n"
     ]
    }
   ],
   "source": [
    "print(classification_report(labels_test, ypred))"
   ]
  },
  {
   "cell_type": "markdown",
   "metadata": {},
   "source": [
    "#### Confusion Matrix"
   ]
  },
  {
   "cell_type": "code",
   "execution_count": 28,
   "metadata": {},
   "outputs": [
    {
     "data": {
      "image/png": "[encoded data removed]",
      "text/plain": [
       "<Figure size 921.6x576 with 2 Axes>"
      ]
     },
     "metadata": {
      "needs_background": "light"
     },
     "output_type": "display_data"
    }
   ],
   "source": [
    "aux_df = data[['Category', 'Category_codes']].drop_duplicates().sort_values('Category_codes')\n",
    "conf_matrix = confusion_matrix(labels_test, ypred)\n",
    "\n",
    "plt.figure(figsize=(12.8,8))\n",
    "ax = sns.heatmap(conf_matrix, \n",
    "            annot=True,\n",
    "            xticklabels=aux_df['Category'].values, \n",
    "            yticklabels=aux_df['Category'].values,\n",
    "            cmap=\"Blues\", fmt = \"g\")\n",
    "plt.ylabel('Predicted')\n",
    "plt.xlabel('Actual')\n",
    "plt.title('Confusion matrix')\n",
    "bottom, top = ax.get_ylim()\n",
    "ax.set_ylim(bottom + 0.5, top - 0.5)\n",
    "plt.show()\n"
   ]
  },
  {
   "cell_type": "markdown",
   "metadata": {},
   "source": [
    "We will create a dataframe with Model Name, Training Accuracy and Test Accuracy to compare later"
   ]
  },
  {
   "cell_type": "code",
   "execution_count": 41,
   "metadata": {},
   "outputs": [],
   "source": [
    "models_summary = pd.DataFrame({\"Model Name:\" : [\"Random Forest Classifier\"],\n",
    "     \"Training Accuracy\" : [accuracy_score(labels_train, best_model.predict(features_train))],\n",
    "     \"Test Accuracy\" : [accuracy_score(labels_test, ypred)]}, index = [0])"
   ]
  },
  {
   "cell_type": "code",
   "execution_count": 45,
   "metadata": {},
   "outputs": [
    {
     "data": {
      "text/html": [
       "<div>\n",
       "<style scoped>\n",
       "    .dataframe tbody tr th:only-of-type {\n",
       "        vertical-align: middle;\n",
       "    }\n",
       "\n",
       "    .dataframe tbody tr th {\n",
       "        vertical-align: top;\n",
       "    }\n",
       "\n",
       "    .dataframe thead th {\n",
       "        text-align: right;\n",
       "    }\n",
       "</style>\n",
       "<table border=\"1\" class=\"dataframe\">\n",
       "  <thead>\n",
       "    <tr style=\"text-align: right;\">\n",
       "      <th></th>\n",
       "      <th>Model Name:</th>\n",
       "      <th>Training Accuracy</th>\n",
       "      <th>Test Accuracy</th>\n",
       "    </tr>\n",
       "  </thead>\n",
       "  <tbody>\n",
       "    <tr>\n",
       "      <th>0</th>\n",
       "      <td>Random Forest Classifier</td>\n",
       "      <td>1.0</td>\n",
       "      <td>0.960503</td>\n",
       "    </tr>\n",
       "  </tbody>\n",
       "</table>\n",
       "</div>"
      ],
      "text/plain": [
       "                Model Name:  Training Accuracy  Test Accuracy\n",
       "0  Random Forest Classifier                1.0       0.960503"
      ]
     },
     "execution_count": 45,
     "metadata": {},
     "output_type": "execute_result"
    }
   ],
   "source": [
    "models_summary"
   ]
  },
  {
   "cell_type": "code",
   "execution_count": 31,
   "metadata": {},
   "outputs": [],
   "source": [
    "with open(\"Models//best_rfc.pickle\", \"wb\") as output:\n",
    "    pickle.dump(best_model, output)"
   ]
  },
  {
   "cell_type": "code",
   "execution_count": 46,
   "metadata": {},
   "outputs": [],
   "source": [
    "with open(\"Models//models_summary.pickle\", \"wb\") as output:\n",
    "    pickle.dump(models_summary, output)"
   ]
  }
 ],
 "metadata": {
  "kernelspec": {
   "display_name": "Python 3",
   "language": "python",
   "name": "python3"
  },
  "language_info": {
   "codemirror_mode": {
    "name": "ipython",
    "version": 3
   },
   "file_extension": ".py",
   "mimetype": "text/x-python",
   "name": "python",
   "nbconvert_exporter": "python",
   "pygments_lexer": "ipython3",
   "version": "3.7.5"
  }
 },
 "nbformat": 4,
 "nbformat_minor": 2
}
