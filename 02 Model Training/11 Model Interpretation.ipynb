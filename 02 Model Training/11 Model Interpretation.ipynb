{
 "cells": [
  {
   "cell_type": "code",
   "execution_count": 1,
   "metadata": {},
   "outputs": [],
   "source": [
    "import glob\n",
    "import os\n",
    "import numpy as np\n",
    "import pandas as pd\n",
    "import seaborn as sns\n",
    "from nltk.corpus import stopwords\n",
    "from nltk.stem import WordNetLemmatizer\n",
    "from sklearn.model_selection import train_test_split\n",
    "from sklearn.feature_extraction.text import TfidfVectorizer\n",
    "from sklearn.feature_selection import chi2\n",
    "import pickle\n",
    "\n",
    "from sklearn.ensemble import RandomForestClassifier\n",
    "from sklearn.metrics import accuracy_score\n",
    "from sklearn.model_selection import RandomizedSearchCV\n",
    "from sklearn.metrics import classification_report\n",
    "from sklearn.metrics import confusion_matrix\n",
    "import matplotlib.pyplot as plt\n",
    "from sklearn import svm\n",
    "from sklearn.model_selection import GridSearchCV\n",
    "from sklearn.model_selection import ShuffleSplit\n",
    "from sklearn.metrics import confusion_matrix\n",
    "from sklearn.naive_bayes import MultinomialNB\n",
    "import random"
   ]
  },
  {
   "cell_type": "code",
   "execution_count": 3,
   "metadata": {},
   "outputs": [],
   "source": [
    "folder_path = \"D:/Projects/News Article classifier/01 Dataset Creation/Pickles//\"\n",
    "\n",
    "filename = \"features_test.pickle\"\n",
    "with open(folder_path + filename, \"rb\") as file:\n",
    "    features_test = pickle.load(file)\n",
    "    \n",
    "filename = \"features_train.pickle\"\n",
    "with open(folder_path + filename, \"rb\") as file:\n",
    "    features_train = pickle.load(file)\n",
    "    \n",
    "filename = \"labels_test.pickle\"\n",
    "with open(folder_path + filename, \"rb\") as file:\n",
    "    labels_test = pickle.load(file)\n",
    "\n",
    "filename = \"labels_train.pickle\"\n",
    "with open(folder_path + filename, \"rb\") as file:\n",
    "    labels_train = pickle.load(file)\n",
    "    \n",
    "filename = \"tfidf.pickle\"\n",
    "with open(folder_path + filename, \"rb\") as file:\n",
    "    tfidf = pickle.load(file)\n",
    "    \n",
    "filename = \"X_test.pickle\"\n",
    "with open(folder_path + filename, \"rb\") as file:\n",
    "    X_test = pickle.load(file)\n",
    "    \n",
    "filename = \"X_train.pickle\"\n",
    "with open(folder_path + filename, \"rb\") as file:\n",
    "    X_train = pickle.load(file)\n",
    "    \n",
    "filename = \"y_test.pickle\"\n",
    "with open(folder_path + filename, \"rb\") as file:\n",
    "    y_test = pickle.load(file)\n",
    "    \n",
    "filename = \"y_train.pickle\"\n",
    "with open(folder_path + filename, \"rb\") as file:\n",
    "    y_train = pickle.load(file)\n",
    "    \n",
    "filename = \"data.pickle\"\n",
    "with open(folder_path + filename, \"rb\") as file:\n",
    "    data = pickle.load(file)\n",
    "\n",
    "models_folder = \"D://Projects//News Article classifier//02 Model Training//Models//\"\n",
    "with open(models_folder + \"best_rfc.pickle\", \"rb\") as file:\n",
    "    model = pickle.load(file)\n"
   ]
  },
  {
   "cell_type": "code",
   "execution_count": 4,
   "metadata": {},
   "outputs": [],
   "source": [
    "prediction = model.predict(features_test)"
   ]
  },
  {
   "cell_type": "code",
   "execution_count": 5,
   "metadata": {},
   "outputs": [],
   "source": [
    "# Extracting Content column from data as so that content is in a readable formate for us. This is to analyse the misclassi     \n",
    "content = data.loc[list(X_test.index), \"Content\"]"
   ]
  },
  {
   "cell_type": "code",
   "execution_count": 6,
   "metadata": {},
   "outputs": [
    {
     "data": {
      "text/html": [
       "<div>\n",
       "<style scoped>\n",
       "    .dataframe tbody tr th:only-of-type {\n",
       "        vertical-align: middle;\n",
       "    }\n",
       "\n",
       "    .dataframe tbody tr th {\n",
       "        vertical-align: top;\n",
       "    }\n",
       "\n",
       "    .dataframe thead th {\n",
       "        text-align: right;\n",
       "    }\n",
       "</style>\n",
       "<table border=\"1\" class=\"dataframe\">\n",
       "  <thead>\n",
       "    <tr style=\"text-align: right;\">\n",
       "      <th></th>\n",
       "      <th>Content</th>\n",
       "      <th>Category_code</th>\n",
       "      <th>Prediction</th>\n",
       "    </tr>\n",
       "  </thead>\n",
       "  <tbody>\n",
       "    <tr>\n",
       "      <th>114</th>\n",
       "      <td>Glaxo aims high after profit fall\\n\\nGlaxoSmit...</td>\n",
       "      <td>0</td>\n",
       "      <td>0</td>\n",
       "    </tr>\n",
       "    <tr>\n",
       "      <th>602</th>\n",
       "      <td>Actor Foxx sees Globe nominations\\n\\nUS actor ...</td>\n",
       "      <td>1</td>\n",
       "      <td>1</td>\n",
       "    </tr>\n",
       "    <tr>\n",
       "      <th>963</th>\n",
       "      <td>Child access laws shake-up\\n\\nParents who refu...</td>\n",
       "      <td>2</td>\n",
       "      <td>2</td>\n",
       "    </tr>\n",
       "    <tr>\n",
       "      <th>1884</th>\n",
       "      <td>Microsoft releases patches\\n\\nMicrosoft has wa...</td>\n",
       "      <td>4</td>\n",
       "      <td>4</td>\n",
       "    </tr>\n",
       "    <tr>\n",
       "      <th>1080</th>\n",
       "      <td>Blair rejects Iraq advice calls\\n\\nTony Blair ...</td>\n",
       "      <td>2</td>\n",
       "      <td>2</td>\n",
       "    </tr>\n",
       "  </tbody>\n",
       "</table>\n",
       "</div>"
      ],
      "text/plain": [
       "                                                Content  Category_code  \\\n",
       "114   Glaxo aims high after profit fall\\n\\nGlaxoSmit...              0   \n",
       "602   Actor Foxx sees Globe nominations\\n\\nUS actor ...              1   \n",
       "963   Child access laws shake-up\\n\\nParents who refu...              2   \n",
       "1884  Microsoft releases patches\\n\\nMicrosoft has wa...              4   \n",
       "1080  Blair rejects Iraq advice calls\\n\\nTony Blair ...              2   \n",
       "\n",
       "      Prediction  \n",
       "114            0  \n",
       "602            1  \n",
       "963            2  \n",
       "1884           4  \n",
       "1080           2  "
      ]
     },
     "execution_count": 6,
     "metadata": {},
     "output_type": "execute_result"
    }
   ],
   "source": [
    "frame = {\"Content\" : content, \n",
    "         \"Category_code\" : y_test, \n",
    "         \"Prediction\" : prediction}\n",
    "data_test = pd.DataFrame(frame)\n",
    "data_test.head()"
   ]
  },
  {
   "cell_type": "code",
   "execution_count": 7,
   "metadata": {},
   "outputs": [],
   "source": [
    "category_names = {\"0\" : \"Business\",\n",
    "                 \"1\" : \"Entertainment\",\n",
    "                 \"2\" : \"Politics\",\n",
    "                 \"3\" : \"Sport\",\n",
    "                 \"4\" : \"Tech\"}\n",
    "\n",
    "category_codes = {\"Business\" : 0,\n",
    "                 \"Entertainment\" : 1,\n",
    "                 \"Politics\" : 2,\n",
    "                 \"Sport\": 3,\n",
    "                 \"Tech\": 4}\n",
    "\n",
    "data_test[\"Category\"] = data_test[\"Category_code\"].astype(\"str\")\n",
    "data_test = data_test.replace({\"Category\" : category_names })\n",
    "\n",
    "data_test[\"Category_predicted\"] = data_test[\"Prediction\"].astype(\"str\")\n",
    "data_test = data_test.replace({\"Category_predicted\" : category_names })"
   ]
  },
  {
   "cell_type": "code",
   "execution_count": 8,
   "metadata": {},
   "outputs": [],
   "source": [
    "condition = (data_test[\"Category\"] != data_test[\"Category_predicted\"])\n",
    "df_misclassified = data_test[condition][[\"Content\", \"Category\", \"Category_predicted\"]]"
   ]
  },
  {
   "cell_type": "code",
   "execution_count": 9,
   "metadata": {},
   "outputs": [
    {
     "data": {
      "text/html": [
       "<div>\n",
       "<style scoped>\n",
       "    .dataframe tbody tr th:only-of-type {\n",
       "        vertical-align: middle;\n",
       "    }\n",
       "\n",
       "    .dataframe tbody tr th {\n",
       "        vertical-align: top;\n",
       "    }\n",
       "\n",
       "    .dataframe thead th {\n",
       "        text-align: right;\n",
       "    }\n",
       "</style>\n",
       "<table border=\"1\" class=\"dataframe\">\n",
       "  <thead>\n",
       "    <tr style=\"text-align: right;\">\n",
       "      <th></th>\n",
       "      <th>Content</th>\n",
       "      <th>Category</th>\n",
       "      <th>Category_predicted</th>\n",
       "    </tr>\n",
       "  </thead>\n",
       "  <tbody>\n",
       "    <tr>\n",
       "      <th>1289</th>\n",
       "      <td>Parliament's record of scandal\\n\\nIn a locked ...</td>\n",
       "      <td>Politics</td>\n",
       "      <td>Entertainment</td>\n",
       "    </tr>\n",
       "    <tr>\n",
       "      <th>2070</th>\n",
       "      <td>Humanoid robot learns how to run\\n\\nCar-maker ...</td>\n",
       "      <td>Tech</td>\n",
       "      <td>Business</td>\n",
       "    </tr>\n",
       "    <tr>\n",
       "      <th>1936</th>\n",
       "      <td>Portable PlayStation ready to go\\n\\nSony's Pla...</td>\n",
       "      <td>Tech</td>\n",
       "      <td>Entertainment</td>\n",
       "    </tr>\n",
       "  </tbody>\n",
       "</table>\n",
       "</div>"
      ],
      "text/plain": [
       "                                                Content  Category  \\\n",
       "1289  Parliament's record of scandal\\n\\nIn a locked ...  Politics   \n",
       "2070  Humanoid robot learns how to run\\n\\nCar-maker ...      Tech   \n",
       "1936  Portable PlayStation ready to go\\n\\nSony's Pla...      Tech   \n",
       "\n",
       "     Category_predicted  \n",
       "1289      Entertainment  \n",
       "2070           Business  \n",
       "1936      Entertainment  "
      ]
     },
     "execution_count": 9,
     "metadata": {},
     "output_type": "execute_result"
    }
   ],
   "source": [
    "df_misclassified.head(3)"
   ]
  },
  {
   "cell_type": "markdown",
   "metadata": {},
   "source": [
    "Let's inspect randomly 3 misclassified cases"
   ]
  },
  {
   "cell_type": "code",
   "execution_count": 10,
   "metadata": {},
   "outputs": [],
   "source": [
    "def output_article(row_article):\n",
    "    print('Actual Category: %s' %(row_article['Category']))\n",
    "    print('Predicted Category: %s' %(row_article['Category_predicted']))\n",
    "    print('-------------------------------------------')\n",
    "    print('Text: ')\n",
    "    print('%s' %(row_article['Content']))"
   ]
  },
  {
   "cell_type": "code",
   "execution_count": 18,
   "metadata": {},
   "outputs": [
    {
     "data": {
      "text/plain": [
       "[2043, 1936, 767]"
      ]
     },
     "execution_count": 18,
     "metadata": {},
     "output_type": "execute_result"
    }
   ],
   "source": [
    "random.seed(6)\n",
    "list_samples = random.sample(list(df_misclassified.index), 3)\n",
    "list_samples"
   ]
  },
  {
   "cell_type": "code",
   "execution_count": 19,
   "metadata": {},
   "outputs": [
    {
     "name": "stdout",
     "output_type": "stream",
     "text": [
      "Actual Category: Tech\n",
      "Predicted Category: Entertainment\n",
      "-------------------------------------------\n",
      "Text: \n",
      "Disney backs Sony DVD technology\n",
      "\n",
      "A next generation DVD technology backed by Sony has received a major boost.\n",
      "\n",
      "Film giant Disney says it will produce its future DVDs using Sony's Blu-ray Disc technology, but has not ruled out a rival format developed by Toshiba. The two competing DVD formats, Blu-ray developed by Sony and others, and Toshiba's HD-DVD, have been courting top film studios for several months. The next generation of DVDs promise very high quality pictures and sound, as well as a lot of data. Both technologies use a blue laser to write information. It has a shorter wavelength so more data can be stored. Disney is the latest studio to announce which technology it is backing in a format battle which mirrors the 1980s Betamax versus VHS war. Sony lost out to JVC in that fight.\n",
      "\n",
      "The current battle for Hollywood's hearts and minds is a crucial one because high-definition films will bring in billions of revenue and the studios would prefer to use one standard. Last month, Paramount, Universal and Warner Brothers said they were opting for the Toshiba and NEC-backed format, HD-DVD high-definition discs.\n",
      "\n",
      "Those studios currently produce about 45% of DVD content. Sony Pictures Entertainment and MGM Studios have already staked their allegiance with the Blu-ray Disc Association, whose members also include technology companies Dell, Samsung and Matsushita. Twentieth Century Fox is still to announce which technology it will be supporting. If Fox decided to go with Blu-ray too, it would mean the format would have a 47% share of DVD content. Disney said its films would be available on the Blu-ray format when DVD players for the standard went on sale on North America and Japan, expected in 2006. Universal is to start producing films on the HD-DVD format in 2005, and Paramount will start releasing titles using the standard in 2006. Toshiba expects sales of HD-DVDs to reach 300bn yen ($2.9bn, Â£1.5bn) by 2010.\n",
      "\n"
     ]
    }
   ],
   "source": [
    "output_article(df_misclassified.loc[list_samples[0]])"
   ]
  },
  {
   "cell_type": "code",
   "execution_count": 20,
   "metadata": {},
   "outputs": [
    {
     "name": "stdout",
     "output_type": "stream",
     "text": [
      "Actual Category: Tech\n",
      "Predicted Category: Entertainment\n",
      "-------------------------------------------\n",
      "Text: \n",
      "Portable PlayStation ready to go\n",
      "\n",
      "Sony's PlayStation Portable (PSP) will go on sale in Japan on 12 December.\n",
      "\n",
      "The long-awaited handheld game playing gadget will cost about 19,800 yen (145 euros) when it hits the shelves. At launch 21 games will be available for the PSP, including Need for Speed, Ridge Racer, Metal Gear Acid and Vampire Chronicle. Sony has not yet announced when the PSP will be available in Europe and the US, but analysts expect it to debut in those territories in early 2005.\n",
      "\n",
      "Fifa 2005 is back at the top of the UK games charts, a week after losing it to rival Pro Evolution Soccer 4. Konami's Pro Evo dropped only one place to two, while the only new entry in the top 10 was another football title, LMA Manager 2005, in at number seven. Tony Hawk's Underground 2 held its own at three, while Star Wars Battlefront inched up to four places to four. There was good news for Disney, with the spin-off from the Shark's Tale film moving up the charts into number eight.\n",
      "\n",
      "Fans of the Gran Turismo series in Europe are going to have to wait until next year for the latest version. Sony has said that the PAL version of GT4 will not be ready for Christmas. \"The product is localised into 13 different languages across the PAL territories, therefore the process takes considerably longer than it does in Japan,\" it said. Gran Turismo 4 for the PlayStation 2 is still expected to be released in Japan and the USA this year.\n",
      "\n",
      "Halo 2 has broken video game records, with pre-orders of more than 1.5 million in the US alone. Some 6,500 US stores plan to open just after midnight on Tuesday 9 November for the game's release. \"Halo 2 is projected to bring in more revenue than any day one box office blockbuster movie in the United States,\" said Xbox's Peter Moore. \"We've even heard rumours of fan anticipation of the 'Halo 2 flu' on 9 November.\"\n",
      "\n"
     ]
    }
   ],
   "source": [
    "output_article(df_misclassified.loc[list_samples[1]])"
   ]
  },
  {
   "cell_type": "code",
   "execution_count": 21,
   "metadata": {},
   "outputs": [
    {
     "name": "stdout",
     "output_type": "stream",
     "text": [
      "Actual Category: Entertainment\n",
      "Predicted Category: Business\n",
      "-------------------------------------------\n",
      "Text: \n",
      "Row threatens Hendrix museum plan\n",
      "\n",
      "Proposals to open a museum dedicated to Jimi Hendrix are flailing because of a row over the home of his late father.\n",
      "\n",
      "The run-down house in Seattle has already been moved wholesale once and local authorities are now demanding it be moved to another site. Hendrix supporters hoped to turn the home into a museum for the guitarist. \"The mayor is going to go down as the mayor who destroyed Jimi Hendrix's house,\" said Ray Rae Marshall of the James Marshall Hendrix Foundation. The foundation moved the building, in which Al Hendrix lived between 1953 and 1956, when the land it was built on was to be developed for housing in 2002. Now the City of Seattle wants its new plot to be used for development, giving a deadline of 22 February for the home to be moved. Mr Goldman said the authority had promised the house could remain on its new site and be turned into a memorial and community centre. Seattle officials said no such deal had been offered.\n",
      "\n",
      "\"We never said, 'You can own this property,'\" said John Franklin, chief of its operations department. \"From our perspective, it was a temporary situation. We have not threatened to demolish the house. We've simply asked that they have to move it.\" Now Mr Goldman is calling for the authority to pay to move the building to Seattle's central district, where Hendrix grew up. Janie Hendrix, the guitarist's stepsister, said the family were still hoping the guitarist would be honoured by having a road named after him. \"That's something my father really wanted to see,\" she said. \"It would be nice if we didn't have to fight for everything to get it.\" Hendrix was widely considered one of the most important guitarists of his time. He died of drug overdose in 1970 at the age of 27.\n",
      "\n"
     ]
    }
   ],
   "source": [
    "output_article(df_misclassified.loc[list_samples[2]])"
   ]
  },
  {
   "cell_type": "markdown",
   "metadata": {},
   "source": [
    "We can see that in all cases, the category is not 100% clear, since these articles contain concepts of both categories. These errors will always happen and we are not looking forward to be 100% accurate on them."
   ]
  },
  {
   "cell_type": "code",
   "execution_count": null,
   "metadata": {},
   "outputs": [],
   "source": []
  }
 ],
 "metadata": {
  "kernelspec": {
   "display_name": "Python 3",
   "language": "python",
   "name": "python3"
  },
  "language_info": {
   "codemirror_mode": {
    "name": "ipython",
    "version": 3
   },
   "file_extension": ".py",
   "mimetype": "text/x-python",
   "name": "python",
   "nbconvert_exporter": "python",
   "pygments_lexer": "ipython3",
   "version": "3.7.5"
  }
 },
 "nbformat": 4,
 "nbformat_minor": 2
}
