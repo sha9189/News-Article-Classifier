{
 "cells": [
  {
   "cell_type": "code",
   "execution_count": 2,
   "metadata": {},
   "outputs": [],
   "source": [
    "import glob\n",
    "import os\n",
    "import numpy as np\n",
    "import pandas as pd\n",
    "import seaborn as sns\n",
    "from nltk.corpus import stopwords\n",
    "from nltk.stem import WordNetLemmatizer\n",
    "from sklearn.model_selection import train_test_split\n",
    "from sklearn.feature_extraction.text import TfidfVectorizer\n",
    "from sklearn.feature_selection import chi2\n",
    "import pickle\n",
    "\n",
    "from sklearn.ensemble import RandomForestClassifier\n",
    "from sklearn.metrics import accuracy_score\n",
    "from sklearn.model_selection import RandomizedSearchCV\n",
    "from sklearn.metrics import classification_report\n",
    "from sklearn.metrics import confusion_matrix\n",
    "import matplotlib.pyplot as plt\n",
    "from sklearn import svm\n",
    "from sklearn.model_selection import GridSearchCV\n",
    "from sklearn.model_selection import ShuffleSplit\n",
    "from sklearn.metrics import confusion_matrix\n"
   ]
  },
  {
   "cell_type": "code",
   "execution_count": 3,
   "metadata": {},
   "outputs": [],
   "source": [
    "folder_path = \"D:/Projects/News Article classifier/01 Dataset Creation/Pickles//\"\n",
    "\n",
    "filename = \"features_test.pickle\"\n",
    "with open(folder_path + filename, \"rb\") as file:\n",
    "    features_test = pickle.load(file)\n",
    "    \n",
    "filename = \"features_train.pickle\"\n",
    "with open(folder_path + filename, \"rb\") as file:\n",
    "    features_train = pickle.load(file)\n",
    "    \n",
    "filename = \"labels_test.pickle\"\n",
    "with open(folder_path + filename, \"rb\") as file:\n",
    "    labels_test = pickle.load(file)\n",
    "\n",
    "filename = \"labels_train.pickle\"\n",
    "with open(folder_path + filename, \"rb\") as file:\n",
    "    labels_train = pickle.load(file)\n",
    "    \n",
    "filename = \"data.pickle\"\n",
    "with open(folder_path + filename, \"rb\") as file:\n",
    "    data = pickle.load(file)\n",
    "    \n"
   ]
  },
  {
   "cell_type": "markdown",
   "metadata": {},
   "source": [
    "# Support Vector Classifier\n",
    "\n",
    "### Default Model"
   ]
  },
  {
   "cell_type": "code",
   "execution_count": 3,
   "metadata": {},
   "outputs": [
    {
     "data": {
      "text/plain": [
       "0.937125748502994"
      ]
     },
     "execution_count": 3,
     "metadata": {},
     "output_type": "execute_result"
    }
   ],
   "source": [
    "svm_1 = svm.SVC(random_state=43)\n",
    "svm_1.fit(features_train, labels_train)\n",
    "ypred = svm_1.predict(features_test)\n",
    "accuracy_score(ypred, labels_test)"
   ]
  },
  {
   "cell_type": "code",
   "execution_count": 4,
   "metadata": {},
   "outputs": [
    {
     "data": {
      "text/plain": [
       "0.9984143763213531"
      ]
     },
     "execution_count": 4,
     "metadata": {},
     "output_type": "execute_result"
    }
   ],
   "source": [
    "accuracy_score(svm_1.predict(features_train), labels_train)"
   ]
  },
  {
   "cell_type": "code",
   "execution_count": 6,
   "metadata": {},
   "outputs": [
    {
     "data": {
      "text/plain": [
       "{'C': 1.0,\n",
       " 'break_ties': False,\n",
       " 'cache_size': 200,\n",
       " 'class_weight': None,\n",
       " 'coef0': 0.0,\n",
       " 'decision_function_shape': 'ovr',\n",
       " 'degree': 3,\n",
       " 'gamma': 'scale',\n",
       " 'kernel': 'rbf',\n",
       " 'max_iter': -1,\n",
       " 'probability': False,\n",
       " 'random_state': 43,\n",
       " 'shrinking': True,\n",
       " 'tol': 0.001,\n",
       " 'verbose': False}"
      ]
     },
     "execution_count": 6,
     "metadata": {},
     "output_type": "execute_result"
    }
   ],
   "source": [
    "svm_1.get_params()"
   ]
  },
  {
   "cell_type": "markdown",
   "metadata": {},
   "source": [
    "## Grid Search CV"
   ]
  },
  {
   "cell_type": "code",
   "execution_count": 5,
   "metadata": {},
   "outputs": [],
   "source": [
    "svm_2 = svm.SVC(random_state=36)\n",
    "\n",
    "C = [0.0001, 0.001, 0.01, 0.1, 1, 10, 100, 1000] #8 options\n",
    "gamma = [0.0001, 0.001, 0.01, 1, 10, 100, 1000] #7 options\n",
    "degree = [2, 3, 4, 5] #4 options\n",
    "kernel_p = [\"poly\"]\n",
    "kernel = [\"rbf\", \"linear\"]\n",
    "\n",
    "#random_param = {\"C\" : C, \"gamma\" : gamma, \"degree\": degree, \"kernel\" : kernel_p}\n",
    "\n",
    "\n",
    "param_grid = [{\"C\" : C, \"gamma\" : gamma, \"degree\": degree, \"kernel\" : kernel_p},\n",
    "               {\"C\" : C, \"gamma\" : gamma, \"kernel\" : kernel}]\n"
   ]
  },
  {
   "cell_type": "code",
   "execution_count": 6,
   "metadata": {},
   "outputs": [
    {
     "name": "stdout",
     "output_type": "stream",
     "text": [
      "Fitting 5 folds for each of 336 candidates, totalling 1680 fits\n"
     ]
    },
    {
     "name": "stderr",
     "output_type": "stream",
     "text": [
      "[Parallel(n_jobs=-1)]: Using backend LokyBackend with 12 concurrent workers.\n",
      "[Parallel(n_jobs=-1)]: Done  26 tasks      | elapsed:    8.1s\n",
      "[Parallel(n_jobs=-1)]: Done 176 tasks      | elapsed:   35.0s\n",
      "[Parallel(n_jobs=-1)]: Done 426 tasks      | elapsed:  1.3min\n",
      "[Parallel(n_jobs=-1)]: Done 776 tasks      | elapsed:  2.3min\n",
      "[Parallel(n_jobs=-1)]: Done 1226 tasks      | elapsed:  3.7min\n",
      "[Parallel(n_jobs=-1)]: Done 1680 out of 1680 | elapsed:  4.7min finished\n"
     ]
    },
    {
     "data": {
      "text/plain": [
       "GridSearchCV(cv=ShuffleSplit(n_splits=5, random_state=8, test_size=0.2, train_size=None),\n",
       "             error_score=nan,\n",
       "             estimator=SVC(C=1.0, break_ties=False, cache_size=200,\n",
       "                           class_weight=None, coef0=0.0,\n",
       "                           decision_function_shape='ovr', degree=3,\n",
       "                           gamma='scale', kernel='rbf', max_iter=-1,\n",
       "                           probability=False, random_state=10, shrinking=True,\n",
       "                           tol=0.001, verbose=False),\n",
       "             iid='deprecated', n_jobs=-1,\n",
       "             param_grid=[{'C': [0.0001, 0.001, 0.01, 0.1, 1, 10, 100, 1000],\n",
       "                          'degree': [2, 3, 4, 5],\n",
       "                          'gamma': [0.0001, 0.001, 0.01, 1, 10, 100, 1000],\n",
       "                          'kernel': ['poly']},\n",
       "                         {'C': [0.0001, 0.001, 0.01, 0.1, 1, 10, 100, 1000],\n",
       "                          'gamma': [0.0001, 0.001, 0.01, 1, 10, 100, 1000],\n",
       "                          'kernel': ['rbf', 'linear']}],\n",
       "             pre_dispatch='2*n_jobs', refit=True, return_train_score=False,\n",
       "             scoring='accuracy', verbose=1)"
      ]
     },
     "execution_count": 6,
     "metadata": {},
     "output_type": "execute_result"
    }
   ],
   "source": [
    "svm_3 = svm.SVC(random_state=10)\n",
    "\n",
    "# Manually create the splits in CV in order to be able to fix a random_state (GridSearchCV doesn't have that argument)\n",
    "cv_sets = ShuffleSplit(n_splits = 5, test_size = .2, random_state = 8)\n",
    "\n",
    "svm_grid = GridSearchCV(estimator=svm_3,\n",
    "                       param_grid = param_grid, \n",
    "                       scoring = \"accuracy\",\n",
    "                       n_jobs = -1,\n",
    "                       cv = cv_sets,\n",
    "                       verbose = 1)\n",
    "svm_grid.fit(features_train, labels_train)"
   ]
  },
  {
   "cell_type": "code",
   "execution_count": 49,
   "metadata": {},
   "outputs": [
    {
     "name": "stdout",
     "output_type": "stream",
     "text": [
      "Best Score: 0.962874251497006\n",
      "Bests Params: {'C': 10, 'gamma': 1, 'kernel': 'rbf'}\n",
      "\n",
      "Training Accuracy: 1.0\n",
      "Test Accuracy: 0.9443447037701975\n"
     ]
    }
   ],
   "source": [
    "print(\n",
    "\"\"\"Best Score: {0}\n",
    "Bests Params: {1}\n",
    "\"\"\".format(svm_grid.best_score_, svm_grid.best_params_))\n",
    "\n",
    "best_model = svm_grid.best_estimator_\n",
    "best_model.fit(features_train, labels_train)\n",
    "ypred = best_model.predict(features_test)\n",
    "print(\"Training Accuracy: {}\".format(accuracy_score(best_model.predict(features_train), labels_train)))\n",
    "print(\"Test Accuracy: {}\".format(accuracy_score(best_model.predict(features_test), labels_test)))"
   ]
  },
  {
   "cell_type": "markdown",
   "metadata": {},
   "source": [
    "#### Classification Report"
   ]
  },
  {
   "cell_type": "code",
   "execution_count": 9,
   "metadata": {},
   "outputs": [
    {
     "name": "stdout",
     "output_type": "stream",
     "text": [
      "              precision    recall  f1-score   support\n",
      "\n",
      "           0       0.91      0.95      0.93       116\n",
      "           1       0.93      0.93      0.93       107\n",
      "           2       0.94      0.91      0.92        99\n",
      "           3       0.98      0.98      0.98       138\n",
      "           4       0.97      0.94      0.95        97\n",
      "\n",
      "    accuracy                           0.94       557\n",
      "   macro avg       0.94      0.94      0.94       557\n",
      "weighted avg       0.94      0.94      0.94       557\n",
      "\n"
     ]
    }
   ],
   "source": [
    "print(classification_report(labels_test, ypred))"
   ]
  },
  {
   "cell_type": "markdown",
   "metadata": {},
   "source": [
    "#### Confusion Matrix"
   ]
  },
  {
   "cell_type": "code",
   "execution_count": 10,
   "metadata": {
    "scrolled": false
   },
   "outputs": [
    {
     "data": {
      "image/png": "[encoded data removed]",
      "text/plain": [
       "<Figure size 921.6x576 with 2 Axes>"
      ]
     },
     "metadata": {
      "needs_background": "light"
     },
     "output_type": "display_data"
    }
   ],
   "source": [
    "aux_df = data[['Category', 'Category_codes']].drop_duplicates().sort_values('Category_codes')\n",
    "conf_matrix = confusion_matrix(labels_test, ypred)\n",
    "\n",
    "plt.figure(figsize=(12.8,8))\n",
    "ax = sns.heatmap(conf_matrix, \n",
    "            annot=True,\n",
    "            xticklabels=aux_df['Category'].values, \n",
    "            yticklabels=aux_df['Category'].values,\n",
    "            cmap=\"Blues\",\n",
    "                fmt = \"g\")\n",
    "plt.ylabel('Predicted')\n",
    "plt.xlabel('Actual')\n",
    "plt.title('Confusion matrix')\n",
    "bottom, top = ax.get_ylim()\n",
    "ax.set_ylim(bottom + 0.5, top - 0.5)\n",
    "plt.show()\n"
   ]
  },
  {
   "cell_type": "code",
   "execution_count": 5,
   "metadata": {},
   "outputs": [],
   "source": [
    "best_model = svm.SVC(random_state=10,\n",
    "                    C = 10,\n",
    "                    gamma = 1,\n",
    "                    kernel = 'rbf')"
   ]
  },
  {
   "cell_type": "code",
   "execution_count": 7,
   "metadata": {},
   "outputs": [
    {
     "data": {
      "text/plain": [
       "SVC(C=10, break_ties=False, cache_size=200, class_weight=None, coef0=0.0,\n",
       "    decision_function_shape='ovr', degree=3, gamma=1, kernel='rbf', max_iter=-1,\n",
       "    probability=False, random_state=10, shrinking=True, tol=0.001,\n",
       "    verbose=False)"
      ]
     },
     "execution_count": 7,
     "metadata": {},
     "output_type": "execute_result"
    }
   ],
   "source": [
    "best_model.fit(features_train, labels_train)"
   ]
  },
  {
   "cell_type": "code",
   "execution_count": 8,
   "metadata": {},
   "outputs": [],
   "source": [
    "ypred = best_model.predict(features_test)"
   ]
  },
  {
   "cell_type": "code",
   "execution_count": null,
   "metadata": {},
   "outputs": [],
   "source": []
  },
  {
   "cell_type": "markdown",
   "metadata": {},
   "source": [
    "We will create a dataframe with Model Name, Training Accuracy and Test Accuracy to compare later"
   ]
  },
  {
   "cell_type": "code",
   "execution_count": 17,
   "metadata": {},
   "outputs": [],
   "source": [
    "models_summary = pd.DataFrame({\"Model Name:\" : [\"Support Vector Machine\"],\n",
    "     \"Training Accuracy\" : [accuracy_score(labels_train, best_model.predict(features_train))],\n",
    "     \"Test Accuracy\" : [accuracy_score(labels_test, ypred)]}, index = [2])"
   ]
  },
  {
   "cell_type": "code",
   "execution_count": 21,
   "metadata": {},
   "outputs": [
    {
     "data": {
      "text/html": [
       "<div>\n",
       "<style scoped>\n",
       "    .dataframe tbody tr th:only-of-type {\n",
       "        vertical-align: middle;\n",
       "    }\n",
       "\n",
       "    .dataframe tbody tr th {\n",
       "        vertical-align: top;\n",
       "    }\n",
       "\n",
       "    .dataframe thead th {\n",
       "        text-align: right;\n",
       "    }\n",
       "</style>\n",
       "<table border=\"1\" class=\"dataframe\">\n",
       "  <thead>\n",
       "    <tr style=\"text-align: right;\">\n",
       "      <th></th>\n",
       "      <th>Model Name:</th>\n",
       "      <th>Training Accuracy</th>\n",
       "      <th>Test Accuracy</th>\n",
       "    </tr>\n",
       "  </thead>\n",
       "  <tbody>\n",
       "    <tr>\n",
       "      <th>2</th>\n",
       "      <td>Support Vector Machine</td>\n",
       "      <td>1.0</td>\n",
       "      <td>0.944345</td>\n",
       "    </tr>\n",
       "  </tbody>\n",
       "</table>\n",
       "</div>"
      ],
      "text/plain": [
       "              Model Name:  Training Accuracy  Test Accuracy\n",
       "2  Support Vector Machine                1.0       0.944345"
      ]
     },
     "execution_count": 21,
     "metadata": {},
     "output_type": "execute_result"
    }
   ],
   "source": [
    "models_summary"
   ]
  },
  {
   "cell_type": "code",
   "execution_count": 37,
   "metadata": {},
   "outputs": [
    {
     "data": {
      "text/html": [
       "<div>\n",
       "<style scoped>\n",
       "    .dataframe tbody tr th:only-of-type {\n",
       "        vertical-align: middle;\n",
       "    }\n",
       "\n",
       "    .dataframe tbody tr th {\n",
       "        vertical-align: top;\n",
       "    }\n",
       "\n",
       "    .dataframe thead th {\n",
       "        text-align: right;\n",
       "    }\n",
       "</style>\n",
       "<table border=\"1\" class=\"dataframe\">\n",
       "  <thead>\n",
       "    <tr style=\"text-align: right;\">\n",
       "      <th></th>\n",
       "      <th>Model Name:</th>\n",
       "      <th>Training Accuracy</th>\n",
       "      <th>Test Accuracy</th>\n",
       "    </tr>\n",
       "  </thead>\n",
       "  <tbody>\n",
       "    <tr>\n",
       "      <th>0</th>\n",
       "      <td>Random Forest Classifier</td>\n",
       "      <td>1.0</td>\n",
       "      <td>0.960503</td>\n",
       "    </tr>\n",
       "    <tr>\n",
       "      <th>1</th>\n",
       "      <td>Gradient Boosting Classifier</td>\n",
       "      <td>1.0</td>\n",
       "      <td>0.958707</td>\n",
       "    </tr>\n",
       "    <tr>\n",
       "      <th>2</th>\n",
       "      <td>Support Vector Machine</td>\n",
       "      <td>1.0</td>\n",
       "      <td>0.944345</td>\n",
       "    </tr>\n",
       "  </tbody>\n",
       "</table>\n",
       "</div>"
      ],
      "text/plain": [
       "                    Model Name:  Training Accuracy  Test Accuracy\n",
       "0      Random Forest Classifier                1.0       0.960503\n",
       "1  Gradient Boosting Classifier                1.0       0.958707\n",
       "2        Support Vector Machine                1.0       0.944345"
      ]
     },
     "execution_count": 37,
     "metadata": {},
     "output_type": "execute_result"
    }
   ],
   "source": [
    "with open(\"Models//models_summary.pickle\", \"rb\") as file:\n",
    "    all_models_summary = pickle.load(file)\n",
    "all_models_summary = all_models_summary.append(models_summary)\n",
    "all_models_summary"
   ]
  },
  {
   "cell_type": "code",
   "execution_count": 38,
   "metadata": {},
   "outputs": [],
   "source": [
    "with open(\"Models//models_summary.pickle\", \"wb\") as output:\n",
    "    pickle.dump(all_models_summary, output)"
   ]
  },
  {
   "cell_type": "code",
   "execution_count": 36,
   "metadata": {},
   "outputs": [],
   "source": [
    "with open(\"Models//best_svm.pickle\", \"wb\") as output:\n",
    "    pickle.dump(best_model, output)\n",
    "    "
   ]
  }
 ],
 "metadata": {
  "kernelspec": {
   "display_name": "Python 3",
   "language": "python",
   "name": "python3"
  },
  "language_info": {
   "codemirror_mode": {
    "name": "ipython",
    "version": 3
   },
   "file_extension": ".py",
   "mimetype": "text/x-python",
   "name": "python",
   "nbconvert_exporter": "python",
   "pygments_lexer": "ipython3",
   "version": "3.7.5"
  }
 },
 "nbformat": 4,
 "nbformat_minor": 2
}
