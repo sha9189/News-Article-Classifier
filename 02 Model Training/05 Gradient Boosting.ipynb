{
 "cells": [
  {
   "cell_type": "code",
   "execution_count": 8,
   "metadata": {},
   "outputs": [],
   "source": [
    "import glob\n",
    "import os\n",
    "import numpy as np\n",
    "import pandas as pd\n",
    "import seaborn as sns\n",
    "from nltk.corpus import stopwords\n",
    "from nltk.stem import WordNetLemmatizer\n",
    "from sklearn.model_selection import train_test_split\n",
    "from sklearn.feature_extraction.text import TfidfVectorizer\n",
    "from sklearn.feature_selection import chi2\n",
    "import pickle\n",
    "from pprint import pprint\n",
    "\n",
    "from sklearn.ensemble import RandomForestClassifier\n",
    "from sklearn.metrics import accuracy_score\n",
    "from sklearn.model_selection import RandomizedSearchCV\n",
    "from sklearn.metrics import classification_report\n",
    "from sklearn.metrics import confusion_matrix\n",
    "import matplotlib.pyplot as plt\n",
    "from sklearn import svm\n",
    "from sklearn.model_selection import GridSearchCV\n",
    "from sklearn.model_selection import ShuffleSplit\n",
    "from sklearn.metrics import confusion_matrix\n",
    "from sklearn.linear_model import LogisticRegression\n",
    "from sklearn.ensemble import GradientBoostingClassifier\n"
   ]
  },
  {
   "cell_type": "code",
   "execution_count": 9,
   "metadata": {},
   "outputs": [],
   "source": [
    "folder_path = \"D:/Projects/News Article classifier/01 Dataset Creation/Pickles//\"\n",
    "\n",
    "filename = \"features_test.pickle\"\n",
    "with open(folder_path + filename, \"rb\") as file:\n",
    "    features_test = pickle.load(file)\n",
    "    \n",
    "filename = \"features_train.pickle\"\n",
    "with open(folder_path + filename, \"rb\") as file:\n",
    "    features_train = pickle.load(file)\n",
    "    \n",
    "filename = \"labels_test.pickle\"\n",
    "with open(folder_path + filename, \"rb\") as file:\n",
    "    labels_test = pickle.load(file)\n",
    "\n",
    "filename = \"labels_train.pickle\"\n",
    "with open(folder_path + filename, \"rb\") as file:\n",
    "    labels_train = pickle.load(file)\n",
    "    \n",
    "filename = \"data.pickle\"\n",
    "with open(folder_path + filename, \"rb\") as file:\n",
    "    data = pickle.load(file)\n"
   ]
  },
  {
   "cell_type": "markdown",
   "metadata": {},
   "source": [
    "# Gradient Boosting Classifier\n",
    "\n",
    "### 1. Default Model"
   ]
  },
  {
   "cell_type": "code",
   "execution_count": 6,
   "metadata": {},
   "outputs": [
    {
     "data": {
      "text/plain": [
       "0.9443447037701975"
      ]
     },
     "execution_count": 6,
     "metadata": {},
     "output_type": "execute_result"
    }
   ],
   "source": [
    "#Gradient Booosting Classifier\n",
    "gbc_1 = GradientBoostingClassifier(random_state=29)\n",
    "gbc_1.fit(features_train, labels_train)\n",
    "ypred = gbc_1.predict(features_test)\n",
    "accuracy_score(ypred, labels_test)"
   ]
  },
  {
   "cell_type": "code",
   "execution_count": null,
   "metadata": {},
   "outputs": [],
   "source": []
  },
  {
   "cell_type": "markdown",
   "metadata": {},
   "source": [
    "### 2. Tuning n_estimators for default learning rate"
   ]
  },
  {
   "cell_type": "code",
   "execution_count": 5,
   "metadata": {},
   "outputs": [
    {
     "name": "stderr",
     "output_type": "stream",
     "text": [
      "C:\\Users\\shail\\AppData\\Local\\Continuum\\anaconda3\\envs\\CS109\\lib\\site-packages\\sklearn\\model_selection\\_search.py:281: UserWarning: The total space of parameters 5 is smaller than n_iter=400. Running 5 iterations. For exhaustive searches, use GridSearchCV.\n",
      "  % (grid_size, self.n_iter, grid_size), UserWarning)\n",
      "[Parallel(n_jobs=-1)]: Using backend LokyBackend with 12 concurrent workers.\n"
     ]
    },
    {
     "name": "stdout",
     "output_type": "stream",
     "text": [
      "Fitting 5 folds for each of 5 candidates, totalling 25 fits\n"
     ]
    },
    {
     "name": "stderr",
     "output_type": "stream",
     "text": [
      "[Parallel(n_jobs=-1)]: Done  25 out of  25 | elapsed:  4.0min finished\n"
     ]
    },
    {
     "data": {
      "text/plain": [
       "RandomizedSearchCV(cv=5, error_score=nan,\n",
       "                   estimator=GradientBoostingClassifier(ccp_alpha=0.0,\n",
       "                                                        criterion='friedman_mse',\n",
       "                                                        init=None,\n",
       "                                                        learning_rate=0.1,\n",
       "                                                        loss='deviance',\n",
       "                                                        max_depth=3,\n",
       "                                                        max_features=None,\n",
       "                                                        max_leaf_nodes=None,\n",
       "                                                        min_impurity_decrease=0.0,\n",
       "                                                        min_impurity_split=None,\n",
       "                                                        min_samples_leaf=1,\n",
       "                                                        min_samples_split=2,\n",
       "                                                        min_weight_fraction_leaf=0.0,\n",
       "                                                        n_estimators=100,\n",
       "                                                        n_iter_no_change=None,\n",
       "                                                        presort='deprecated',\n",
       "                                                        random_state=23,\n",
       "                                                        subsample=1.0,\n",
       "                                                        tol=0.0001,\n",
       "                                                        validation_fraction=0.1,\n",
       "                                                        verbose=0,\n",
       "                                                        warm_start=False),\n",
       "                   iid='deprecated', n_iter=400, n_jobs=-1,\n",
       "                   param_distributions={'n_estimators': [100, 500, 1000, 1500,\n",
       "                                                         2000]},\n",
       "                   pre_dispatch='2*n_jobs', random_state=48, refit=True,\n",
       "                   return_train_score=False, scoring='accuracy', verbose=1)"
      ]
     },
     "execution_count": 5,
     "metadata": {},
     "output_type": "execute_result"
    }
   ],
   "source": [
    "#For default value of learning rate, finding n_estimators for best results\n",
    "n_estimators = [100, 500, 1000, 1500, 2000]\n",
    "\n",
    "param_grid = {\"n_estimators\" : n_estimators}\n",
    "\n",
    "# Manually create the splits in CV in order to be able to fix a random_state (GridSearchCV doesn't have that argument)\n",
    "cv_sets = ShuffleSplit(n_splits = 5, test_size = .2, random_state = 48)\n",
    "\n",
    "grid_gb = GradientBoostingClassifier(random_state=23)\n",
    "gb_cv1 = RandomizedSearchCV(estimator= grid_gb, \n",
    "                           param_distributions= param_grid,\n",
    "                           n_iter = 400,\n",
    "                           scoring = \"accuracy\",\n",
    "                           cv = 5,\n",
    "                           verbose = 1,\n",
    "                           random_state = 48,\n",
    "                           n_jobs = -1)\n",
    "gb_cv1.fit(features_train, labels_train)\n"
   ]
  },
  {
   "cell_type": "code",
   "execution_count": 6,
   "metadata": {},
   "outputs": [
    {
     "name": "stdout",
     "output_type": "stream",
     "text": [
      "Best Score: 0.9574670478862096\n",
      "Bests Params: {'n_estimators': 500}\n",
      "\n",
      "Training Accuracy: 1.0\n",
      "Test Accuracy: 0.9497307001795332\n"
     ]
    }
   ],
   "source": [
    "print(\n",
    "\"\"\"Best Score: {0}\n",
    "Bests Params: {1}\n",
    "\"\"\".format(gb_cv1.best_score_, gb_cv1.best_params_))\n",
    "\n",
    "best_model = gb_cv1.best_estimator_\n",
    "best_model.fit(features_train, labels_train)\n",
    "ypred = best_model.predict(features_test)\n",
    "print(\"Training Accuracy: {}\".format(accuracy_score(best_model.predict(features_train), labels_train)))\n",
    "print(\"Test Accuracy: {}\".format(accuracy_score(best_model.predict(features_test), labels_test)))"
   ]
  },
  {
   "cell_type": "markdown",
   "metadata": {},
   "source": [
    "**Observation** : For default learning rate = 0.1, model performance is best at n_estimators = 500.\n",
    "\n",
    "I will use this value of n_estimators and tune on tree-specific features."
   ]
  },
  {
   "cell_type": "markdown",
   "metadata": {},
   "source": [
    "### 3. Tuning tree-specific features   \n",
    "\n",
    "#### First run"
   ]
  },
  {
   "cell_type": "code",
   "execution_count": 10,
   "metadata": {},
   "outputs": [
    {
     "name": "stdout",
     "output_type": "stream",
     "text": [
      "Fitting 5 folds for each of 150 candidates, totalling 750 fits\n"
     ]
    },
    {
     "name": "stderr",
     "output_type": "stream",
     "text": [
      "[Parallel(n_jobs=-1)]: Using backend LokyBackend with 12 concurrent workers.\n",
      "[Parallel(n_jobs=-1)]: Done  31 tasks      | elapsed:    7.0s\n",
      "[Parallel(n_jobs=-1)]: Done 200 tasks      | elapsed:  2.2min\n",
      "[Parallel(n_jobs=-1)]: Done 450 tasks      | elapsed:  6.6min\n",
      "[Parallel(n_jobs=-1)]: Done 750 out of 750 | elapsed: 12.1min finished\n"
     ]
    },
    {
     "data": {
      "text/plain": [
       "RandomizedSearchCV(cv=5, error_score=nan,\n",
       "                   estimator=GradientBoostingClassifier(ccp_alpha=0.0,\n",
       "                                                        criterion='friedman_mse',\n",
       "                                                        init=None,\n",
       "                                                        learning_rate=0.1,\n",
       "                                                        loss='deviance',\n",
       "                                                        max_depth=3,\n",
       "                                                        max_features=None,\n",
       "                                                        max_leaf_nodes=None,\n",
       "                                                        min_impurity_decrease=0.0,\n",
       "                                                        min_impurity_split=None,\n",
       "                                                        min_samples_leaf=1,\n",
       "                                                        min_samples_split=2,\n",
       "                                                        min_weight_fraction_leaf=0.0,\n",
       "                                                        n_estimators=100,\n",
       "                                                        n_ite...\n",
       "                                                        validation_fraction=0.1,\n",
       "                                                        verbose=0,\n",
       "                                                        warm_start=False),\n",
       "                   iid='deprecated', n_iter=150, n_jobs=-1,\n",
       "                   param_distributions={'learning_rate': [0.1],\n",
       "                                        'max_depth': [None, 3, 6, 9],\n",
       "                                        'max_features': [None, 7, 13, 17],\n",
       "                                        'min_samples_leaf': [1, 3, 5],\n",
       "                                        'min_samples_split': [1, 4, 7, 10],\n",
       "                                        'n_estimators': [500]},\n",
       "                   pre_dispatch='2*n_jobs', random_state=48, refit=True,\n",
       "                   return_train_score=False, scoring='accuracy', verbose=1)"
      ]
     },
     "execution_count": 10,
     "metadata": {},
     "output_type": "execute_result"
    }
   ],
   "source": [
    "learning_rate = [0.1]\n",
    "n_estimators = [500]\n",
    "max_depth = [None, 3, 6, 9] # 4 options\n",
    "min_samples_split = [1, 4, 7, 10] # 4 options\n",
    "min_samples_leaf = [1, 3, 5] #3 options\n",
    "max_features = [None, 7, 13, 17] #4 options\n",
    "\n",
    "param_grid = {\"n_estimators\" : n_estimators,\n",
    "              \"max_features\" : max_features,\n",
    "              \"max_depth\" : max_depth,\n",
    "              \"min_samples_split\" : min_samples_split,\n",
    "              \"learning_rate\" : learning_rate,\n",
    "              \"min_samples_leaf\" : min_samples_leaf}\n",
    "\n",
    "random_gb = GradientBoostingClassifier(random_state=23)\n",
    "gb_cv1 = RandomizedSearchCV(estimator= random_gb, \n",
    "                           param_distributions= param_grid,\n",
    "                           n_iter = 150,\n",
    "                           scoring = \"accuracy\",\n",
    "                           cv = 5,\n",
    "                           verbose = 1,\n",
    "                           random_state = 48,\n",
    "                           n_jobs = -1)\n",
    "gb_cv1.fit(features_train, labels_train)"
   ]
  },
  {
   "cell_type": "code",
   "execution_count": 12,
   "metadata": {
    "scrolled": true
   },
   "outputs": [
    {
     "name": "stdout",
     "output_type": "stream",
     "text": [
      "Best Score: 0.9718419017820216\n",
      "Bests Params: {'n_estimators': 500, 'min_samples_split': 4, 'min_samples_leaf': 1, 'max_features': 17, 'max_depth': 9, 'learning_rate': 0.1}\n",
      "\n",
      "Training Accuracy: 1.0\n",
      "Test Accuracy: 0.9515260323159784\n"
     ]
    }
   ],
   "source": [
    "print(\n",
    "\"\"\"Best Score: {0}\n",
    "Bests Params: {1}\n",
    "\"\"\".format(gb_cv1.best_score_, gb_cv1.best_params_))\n",
    "\n",
    "best_model = gb_cv1.best_estimator_\n",
    "best_model.fit(features_train, labels_train)\n",
    "ypred = best_model.predict(features_test)\n",
    "print(\"Training Accuracy: {}\".format(accuracy_score(best_model.predict(features_train), labels_train)))\n",
    "print(\"Test Accuracy: {}\".format(accuracy_score(best_model.predict(features_test), labels_test)))"
   ]
  },
  {
   "cell_type": "markdown",
   "metadata": {},
   "source": [
    "This process is repeated multiple times, tending closer to the optimum parameter values and narrowing the parameter sets at each iteration.\n",
    "\n",
    "Again, I am not including the complete analysis, with all the runs here, for the neatness of the notebook.\n",
    "\n",
    "The final run I did for tree specific features is as follows."
   ]
  },
  {
   "cell_type": "code",
   "execution_count": 15,
   "metadata": {},
   "outputs": [
    {
     "name": "stdout",
     "output_type": "stream",
     "text": [
      "Fitting 5 folds for each of 12 candidates, totalling 60 fits\n"
     ]
    },
    {
     "name": "stderr",
     "output_type": "stream",
     "text": [
      "[Parallel(n_jobs=-1)]: Using backend LokyBackend with 12 concurrent workers.\n",
      "[Parallel(n_jobs=-1)]: Done  26 tasks      | elapsed:   56.0s\n",
      "[Parallel(n_jobs=-1)]: Done  60 out of  60 | elapsed:  1.7min finished\n"
     ]
    },
    {
     "data": {
      "text/plain": [
       "GridSearchCV(cv=ShuffleSplit(n_splits=5, random_state=48, test_size=0.2, train_size=None),\n",
       "             error_score=nan,\n",
       "             estimator=GradientBoostingClassifier(ccp_alpha=0.0,\n",
       "                                                  criterion='friedman_mse',\n",
       "                                                  init=None, learning_rate=0.1,\n",
       "                                                  loss='deviance', max_depth=3,\n",
       "                                                  max_features=None,\n",
       "                                                  max_leaf_nodes=None,\n",
       "                                                  min_impurity_decrease=0.0,\n",
       "                                                  min_impurity_split=None,\n",
       "                                                  min_samples_leaf=1,\n",
       "                                                  min_samp...\n",
       "                                                  random_state=23,\n",
       "                                                  subsample=1.0, tol=0.0001,\n",
       "                                                  validation_fraction=0.1,\n",
       "                                                  verbose=0, warm_start=False),\n",
       "             iid='deprecated', n_jobs=-1,\n",
       "             param_grid={'learning_rate': [0.1], 'max_depth': [10, 11, 12],\n",
       "                         'max_features': [13, 14, 15, 16],\n",
       "                         'min_samples_leaf': [1], 'min_samples_split': [6],\n",
       "                         'n_estimators': [500]},\n",
       "             pre_dispatch='2*n_jobs', refit=True, return_train_score=False,\n",
       "             scoring='accuracy', verbose=1)"
      ]
     },
     "execution_count": 15,
     "metadata": {},
     "output_type": "execute_result"
    }
   ],
   "source": [
    "learning_rate = [0.1]\n",
    "n_estimators = [500]\n",
    "max_depth = [10, 11, 12] # 3 options\n",
    "min_samples_split = [6] # 1 options\n",
    "min_samples_leaf = [1] # 1 options\n",
    "max_features = [13, 14, 15, 16] # 4 options\n",
    "\n",
    "param_grid = {\"n_estimators\" : n_estimators,\n",
    "              \"max_features\" : max_features,\n",
    "              \"max_depth\" : max_depth,\n",
    "              \"min_samples_split\" : min_samples_split,\n",
    "              \"learning_rate\" : learning_rate,\n",
    "              \"min_samples_leaf\" : min_samples_leaf}\n",
    "\n",
    "# Manually create the splits in CV in order to be able to fix a random_state (GridSearchCV doesn't have that argument)\n",
    "cv_sets = ShuffleSplit(n_splits = 5, test_size = .2, random_state = 48)\n",
    "\n",
    "grid_gb = GradientBoostingClassifier(random_state=23)\n",
    "gb_cv1 = GridSearchCV(estimator=grid_gb,\n",
    "                       param_grid = param_grid, \n",
    "                       scoring = \"accuracy\",\n",
    "                       n_jobs = -1,\n",
    "                       cv = cv_sets,\n",
    "                       verbose = 1)\n",
    "gb_cv1.fit(features_train, labels_train)"
   ]
  },
  {
   "cell_type": "code",
   "execution_count": 16,
   "metadata": {},
   "outputs": [
    {
     "name": "stdout",
     "output_type": "stream",
     "text": [
      "Best Score: 0.9736526946107784\n",
      "Bests Params: {'learning_rate': 0.1, 'max_depth': 11, 'max_features': 15, 'min_samples_leaf': 1, 'min_samples_split': 6, 'n_estimators': 500}\n",
      "\n",
      "Training Accuracy: 1.0\n",
      "Test Accuracy: 0.9569120287253142\n"
     ]
    }
   ],
   "source": [
    "print(\n",
    "\"\"\"Best Score: {0}\n",
    "Bests Params: {1}\n",
    "\"\"\".format(gb_cv1.best_score_, gb_cv1.best_params_))\n",
    "\n",
    "best_model = gb_cv1.best_estimator_\n",
    "best_model.fit(features_train, labels_train)\n",
    "ypred = best_model.predict(features_test)\n",
    "print(\"Training Accuracy: {}\".format(accuracy_score(best_model.predict(features_train), labels_train)))\n",
    "print(\"Test Accuracy: {}\".format(accuracy_score(best_model.predict(features_test), labels_test)))"
   ]
  },
  {
   "cell_type": "markdown",
   "metadata": {},
   "source": [
    "#### 4. Reducing the learning rate and trying higher values of n_estimators"
   ]
  },
  {
   "cell_type": "code",
   "execution_count": 23,
   "metadata": {},
   "outputs": [
    {
     "name": "stdout",
     "output_type": "stream",
     "text": [
      "Fitting 5 folds for each of 4 candidates, totalling 20 fits\n"
     ]
    },
    {
     "name": "stderr",
     "output_type": "stream",
     "text": [
      "[Parallel(n_jobs=-1)]: Using backend LokyBackend with 12 concurrent workers.\n",
      "[Parallel(n_jobs=-1)]: Done  18 out of  20 | elapsed:  4.9min remaining:   32.7s\n",
      "[Parallel(n_jobs=-1)]: Done  20 out of  20 | elapsed:  5.1min finished\n"
     ]
    },
    {
     "data": {
      "text/plain": [
       "GridSearchCV(cv=ShuffleSplit(n_splits=5, random_state=48, test_size=0.2, train_size=None),\n",
       "             error_score=nan,\n",
       "             estimator=GradientBoostingClassifier(ccp_alpha=0.0,\n",
       "                                                  criterion='friedman_mse',\n",
       "                                                  init=None, learning_rate=0.1,\n",
       "                                                  loss='deviance', max_depth=3,\n",
       "                                                  max_features=None,\n",
       "                                                  max_leaf_nodes=None,\n",
       "                                                  min_impurity_decrease=0.0,\n",
       "                                                  min_impurity_split=None,\n",
       "                                                  min_samples_leaf=1,\n",
       "                                                  min_samp...\n",
       "                                                  subsample=1.0, tol=0.0001,\n",
       "                                                  validation_fraction=0.1,\n",
       "                                                  verbose=0, warm_start=False),\n",
       "             iid='deprecated', n_jobs=-1,\n",
       "             param_grid={'learning_rate': [0.01], 'max_depth': [11],\n",
       "                         'max_features': [15], 'min_samples_leaf': [1],\n",
       "                         'min_samples_split': [6],\n",
       "                         'n_estimators': [1000, 3000, 5000, 7000],\n",
       "                         'subsample': [1]},\n",
       "             pre_dispatch='2*n_jobs', refit=True, return_train_score=False,\n",
       "             scoring='accuracy', verbose=1)"
      ]
     },
     "execution_count": 23,
     "metadata": {},
     "output_type": "execute_result"
    }
   ],
   "source": [
    "learning_rate = [0.01]\n",
    "n_estimators = [1000, 3000, 5000, 7000]\n",
    "max_depth = [11] # 1 options\n",
    "min_samples_split = [6] # 1 options\n",
    "min_samples_leaf = [1] # 1 options\n",
    "max_features = [15] # 4 options\n",
    "subsample = [1]\n",
    "\n",
    "param_grid = {\"n_estimators\" : n_estimators,\n",
    "              \"max_features\" : max_features,\n",
    "              \"max_depth\" : max_depth,\n",
    "              \"min_samples_split\" : min_samples_split,\n",
    "              \"learning_rate\" : learning_rate,\n",
    "              \"min_samples_leaf\" : min_samples_leaf,\n",
    "              \"subsample\" : subsample}\n",
    "\n",
    "# Manually create the splits in CV in order to be able to fix a random_state (GridSearchCV doesn't have that argument)\n",
    "cv_sets = ShuffleSplit(n_splits = 5, test_size = .2, random_state = 48)\n",
    "\n",
    "grid_gb = GradientBoostingClassifier(random_state=23)\n",
    "gb_cv1 = GridSearchCV(estimator=grid_gb,\n",
    "                       param_grid = param_grid, \n",
    "                       scoring = \"accuracy\",\n",
    "                       n_jobs = -1,\n",
    "                       cv = cv_sets,\n",
    "                       verbose = 1)\n",
    "gb_cv1.fit(features_train, labels_train)"
   ]
  },
  {
   "cell_type": "code",
   "execution_count": 24,
   "metadata": {},
   "outputs": [
    {
     "name": "stdout",
     "output_type": "stream",
     "text": [
      "Best Score: 0.97125748502994\n",
      "Bests Params: {'learning_rate': 0.01, 'max_depth': 11, 'max_features': 15, 'min_samples_leaf': 1, 'min_samples_split': 6, 'n_estimators': 1000, 'subsample': 1}\n",
      "\n",
      "Training Accuracy: 1.0\n",
      "Test Accuracy: 0.9587073608617595\n"
     ]
    }
   ],
   "source": [
    "print(\n",
    "\"\"\"Best Score: {0}\n",
    "Bests Params: {1}\n",
    "\"\"\".format(gb_cv1.best_score_, gb_cv1.best_params_))\n",
    "\n",
    "best_model = gb_cv1.best_estimator_\n",
    "best_model.fit(features_train, labels_train)\n",
    "ypred = best_model.predict(features_test)\n",
    "print(\"Training Accuracy: {}\".format(accuracy_score(best_model.predict(features_train), labels_train)))\n",
    "print(\"Test Accuracy: {}\".format(accuracy_score(best_model.predict(features_test), labels_test)))"
   ]
  },
  {
   "cell_type": "markdown",
   "metadata": {},
   "source": [
    "Great! This is the best accuracy the classifier can give."
   ]
  },
  {
   "cell_type": "markdown",
   "metadata": {},
   "source": [
    "#### Classification Report"
   ]
  },
  {
   "cell_type": "code",
   "execution_count": 27,
   "metadata": {},
   "outputs": [
    {
     "name": "stdout",
     "output_type": "stream",
     "text": [
      "              precision    recall  f1-score   support\n",
      "\n",
      "           0       0.96      0.97      0.96       116\n",
      "           1       0.94      0.96      0.95       107\n",
      "           2       0.96      0.93      0.94        99\n",
      "           3       0.98      0.99      0.99       138\n",
      "           4       0.96      0.93      0.94        97\n",
      "\n",
      "    accuracy                           0.96       557\n",
      "   macro avg       0.96      0.96      0.96       557\n",
      "weighted avg       0.96      0.96      0.96       557\n",
      "\n"
     ]
    }
   ],
   "source": [
    "print(classification_report(labels_test, ypred))"
   ]
  },
  {
   "cell_type": "markdown",
   "metadata": {},
   "source": [
    "#### Confusion Matrix"
   ]
  },
  {
   "cell_type": "code",
   "execution_count": 29,
   "metadata": {},
   "outputs": [
    {
     "data": {
      "image/png": "[encoded data removed]",
      "text/plain": [
       "<Figure size 921.6x576 with 2 Axes>"
      ]
     },
     "metadata": {
      "needs_background": "light"
     },
     "output_type": "display_data"
    }
   ],
   "source": [
    "aux_df = data[['Category', 'Category_codes']].drop_duplicates().sort_values('Category_codes')\n",
    "conf_matrix = confusion_matrix(labels_test, ypred)\n",
    "\n",
    "plt.figure(figsize=(12.8,8))\n",
    "ax = sns.heatmap(conf_matrix, \n",
    "            annot=True,\n",
    "            xticklabels=aux_df['Category'].values, \n",
    "            yticklabels=aux_df['Category'].values,\n",
    "            cmap=\"Blues\", fmt = \"g\")\n",
    "plt.ylabel('Predicted')\n",
    "plt.xlabel('Actual')\n",
    "plt.title('Confusion matrix')\n",
    "bottom, top = ax.get_ylim()\n",
    "ax.set_ylim(bottom + 0.5, top - 0.5)\n",
    "plt.show()\n"
   ]
  },
  {
   "cell_type": "markdown",
   "metadata": {},
   "source": [
    "We will create a dataframe with Model Name, Training Accuracy and Test Accuracy to compare later"
   ]
  },
  {
   "cell_type": "code",
   "execution_count": 12,
   "metadata": {},
   "outputs": [],
   "source": [
    "models_summary = pd.DataFrame({\"Model Name:\" : [\"Gradient Boosting Classifier\"],\n",
    "     \"Training Accuracy\" : [accuracy_score(labels_train, best_model.predict(features_train))],\n",
    "     \"Test Accuracy\" : [accuracy_score(labels_test, ypred)]}, index = [1])"
   ]
  },
  {
   "cell_type": "code",
   "execution_count": 29,
   "metadata": {},
   "outputs": [
    {
     "data": {
      "text/html": [
       "<div>\n",
       "<style scoped>\n",
       "    .dataframe tbody tr th:only-of-type {\n",
       "        vertical-align: middle;\n",
       "    }\n",
       "\n",
       "    .dataframe tbody tr th {\n",
       "        vertical-align: top;\n",
       "    }\n",
       "\n",
       "    .dataframe thead th {\n",
       "        text-align: right;\n",
       "    }\n",
       "</style>\n",
       "<table border=\"1\" class=\"dataframe\">\n",
       "  <thead>\n",
       "    <tr style=\"text-align: right;\">\n",
       "      <th></th>\n",
       "      <th>Model Name:</th>\n",
       "      <th>Training Accuracy</th>\n",
       "      <th>Test Accuracy</th>\n",
       "    </tr>\n",
       "  </thead>\n",
       "  <tbody>\n",
       "    <tr>\n",
       "      <th>1</th>\n",
       "      <td>Gradient Boosting Classifier</td>\n",
       "      <td>1.0</td>\n",
       "      <td>0.958707</td>\n",
       "    </tr>\n",
       "  </tbody>\n",
       "</table>\n",
       "</div>"
      ],
      "text/plain": [
       "                    Model Name:  Training Accuracy  Test Accuracy\n",
       "1  Gradient Boosting Classifier                1.0       0.958707"
      ]
     },
     "execution_count": 29,
     "metadata": {},
     "output_type": "execute_result"
    }
   ],
   "source": [
    "models_summary"
   ]
  },
  {
   "cell_type": "code",
   "execution_count": 30,
   "metadata": {},
   "outputs": [
    {
     "data": {
      "text/html": [
       "<div>\n",
       "<style scoped>\n",
       "    .dataframe tbody tr th:only-of-type {\n",
       "        vertical-align: middle;\n",
       "    }\n",
       "\n",
       "    .dataframe tbody tr th {\n",
       "        vertical-align: top;\n",
       "    }\n",
       "\n",
       "    .dataframe thead th {\n",
       "        text-align: right;\n",
       "    }\n",
       "</style>\n",
       "<table border=\"1\" class=\"dataframe\">\n",
       "  <thead>\n",
       "    <tr style=\"text-align: right;\">\n",
       "      <th></th>\n",
       "      <th>Model Name:</th>\n",
       "      <th>Training Accuracy</th>\n",
       "      <th>Test Accuracy</th>\n",
       "    </tr>\n",
       "  </thead>\n",
       "  <tbody>\n",
       "    <tr>\n",
       "      <th>0</th>\n",
       "      <td>Random Forest Classifier</td>\n",
       "      <td>1.0</td>\n",
       "      <td>0.960503</td>\n",
       "    </tr>\n",
       "    <tr>\n",
       "      <th>1</th>\n",
       "      <td>Gradient Boosting Classifier</td>\n",
       "      <td>1.0</td>\n",
       "      <td>0.958707</td>\n",
       "    </tr>\n",
       "  </tbody>\n",
       "</table>\n",
       "</div>"
      ],
      "text/plain": [
       "                    Model Name:  Training Accuracy  Test Accuracy\n",
       "0      Random Forest Classifier                1.0       0.960503\n",
       "1  Gradient Boosting Classifier                1.0       0.958707"
      ]
     },
     "execution_count": 30,
     "metadata": {},
     "output_type": "execute_result"
    }
   ],
   "source": [
    "with open(\"Models//models_summary.pickle\", \"rb\") as file:\n",
    "    all_models_summary = pickle.load(file)\n",
    "all_models_summary = all_models_summary.append(models_summary)\n",
    "all_models_summary"
   ]
  },
  {
   "cell_type": "code",
   "execution_count": 17,
   "metadata": {},
   "outputs": [],
   "source": [
    "with open(\"Models//best_gb.pickle\", \"wb\") as output:\n",
    "    pickle.dump(best_model, output)"
   ]
  },
  {
   "cell_type": "code",
   "execution_count": 31,
   "metadata": {},
   "outputs": [],
   "source": [
    "with open(\"Models//models_summary.pickle\", \"wb\") as output:\n",
    "    pickle.dump(all_models_summary, output)"
   ]
  },
  {
   "cell_type": "code",
   "execution_count": 28,
   "metadata": {},
   "outputs": [
    {
     "data": {
      "text/html": [
       "<div>\n",
       "<style scoped>\n",
       "    .dataframe tbody tr th:only-of-type {\n",
       "        vertical-align: middle;\n",
       "    }\n",
       "\n",
       "    .dataframe tbody tr th {\n",
       "        vertical-align: top;\n",
       "    }\n",
       "\n",
       "    .dataframe thead th {\n",
       "        text-align: right;\n",
       "    }\n",
       "</style>\n",
       "<table border=\"1\" class=\"dataframe\">\n",
       "  <thead>\n",
       "    <tr style=\"text-align: right;\">\n",
       "      <th></th>\n",
       "      <th>Model Name:</th>\n",
       "      <th>Training Accuracy</th>\n",
       "      <th>Test Accuracy</th>\n",
       "    </tr>\n",
       "  </thead>\n",
       "  <tbody>\n",
       "    <tr>\n",
       "      <th>1</th>\n",
       "      <td>Gradient Boosting Classifier</td>\n",
       "      <td>1.0</td>\n",
       "      <td>0.958707</td>\n",
       "    </tr>\n",
       "  </tbody>\n",
       "</table>\n",
       "</div>"
      ],
      "text/plain": [
       "                    Model Name:  Training Accuracy  Test Accuracy\n",
       "1  Gradient Boosting Classifier                1.0       0.958707"
      ]
     },
     "execution_count": 28,
     "metadata": {},
     "output_type": "execute_result"
    }
   ],
   "source": [
    "all_models_summary"
   ]
  },
  {
   "cell_type": "code",
   "execution_count": null,
   "metadata": {},
   "outputs": [],
   "source": []
  }
 ],
 "metadata": {
  "kernelspec": {
   "display_name": "Python 3",
   "language": "python",
   "name": "python3"
  },
  "language_info": {
   "codemirror_mode": {
    "name": "ipython",
    "version": 3
   },
   "file_extension": ".py",
   "mimetype": "text/x-python",
   "name": "python",
   "nbconvert_exporter": "python",
   "pygments_lexer": "ipython3",
   "version": "3.7.5"
  }
 },
 "nbformat": 4,
 "nbformat_minor": 2
}
